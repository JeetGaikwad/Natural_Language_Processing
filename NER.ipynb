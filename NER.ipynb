{
  "nbformat": 4,
  "nbformat_minor": 0,
  "metadata": {
    "colab": {
      "provenance": []
    },
    "kernelspec": {
      "name": "python3",
      "display_name": "Python 3"
    },
    "language_info": {
      "name": "python"
    }
  },
  "cells": [
    {
      "cell_type": "code",
      "execution_count": null,
      "metadata": {
        "id": "2m9L5giGjqcX"
      },
      "outputs": [],
      "source": [
        "import spacy\n",
        "nlp = spacy.load(\"en_core_web_sm\")"
      ]
    },
    {
      "cell_type": "code",
      "source": [
        "nlp.pipe_names"
      ],
      "metadata": {
        "colab": {
          "base_uri": "https://localhost:8080/"
        },
        "id": "8ih3OwINjryX",
        "outputId": "4c646a5c-2ae4-457e-cffe-82528673578f"
      },
      "execution_count": null,
      "outputs": [
        {
          "output_type": "execute_result",
          "data": {
            "text/plain": [
              "['tok2vec', 'tagger', 'parser', 'attribute_ruler', 'lemmatizer', 'ner']"
            ]
          },
          "metadata": {},
          "execution_count": 17
        }
      ]
    },
    {
      "cell_type": "code",
      "source": [
        "doc = nlp(\"\"\"024 has begun multiple asteroid approaches in the first two days,\n",
        " and the trend is set to continue today.\n",
        " As per the Center for Near-Earth Object Studies (CNEOS),\n",
        " an asteroid is expected to pass Earth by a close margin today,\n",
        " January 3. When NASA's telescopes track a new Near-Earth Asteroid (NEA),\n",
        " astronomers measure the asteroid's observed positions in the sky and report them to the Minor Planet Center.\n",
        " The Center for Near-Earth Object Studies (CNEOS) then uses that data to determine the asteroid's most likely orbit around the Sun,\n",
        " according to NASA. Using this method, know details about Asteroid 2019 KK5 such as its speed, size, and distance of approach.\"\"\")\n",
        "\n",
        "for i in doc.ents:\n",
        "  print(i.text, \"|\", i.label_, \"|\", spacy.explain(i.label_))"
      ],
      "metadata": {
        "colab": {
          "base_uri": "https://localhost:8080/"
        },
        "id": "HM1EBzG4kPlU",
        "outputId": "87a0b536-d44b-47ea-c796-3e9b61fa3104"
      },
      "execution_count": null,
      "outputs": [
        {
          "output_type": "stream",
          "name": "stdout",
          "text": [
            "024 | CARDINAL | Numerals that do not fall under another type\n",
            "the first two days | DATE | Absolute or relative dates or periods\n",
            "today | DATE | Absolute or relative dates or periods\n",
            "the Center for Near-Earth Object Studies | ORG | Companies, agencies, institutions, etc.\n",
            "CNEOS | ORG | Companies, agencies, institutions, etc.\n",
            "Earth | LOC | Non-GPE locations, mountain ranges, bodies of water\n",
            "today | DATE | Absolute or relative dates or periods\n",
            "January 3 | DATE | Absolute or relative dates or periods\n",
            "NASA | ORG | Companies, agencies, institutions, etc.\n",
            "Near-Earth Asteroid | ORG | Companies, agencies, institutions, etc.\n",
            "NEA | ORG | Companies, agencies, institutions, etc.\n",
            "the Minor Planet Center | ORG | Companies, agencies, institutions, etc.\n",
            "The Center for Near-Earth Object Studies | ORG | Companies, agencies, institutions, etc.\n",
            "CNEOS | ORG | Companies, agencies, institutions, etc.\n",
            "Sun | LOC | Non-GPE locations, mountain ranges, bodies of water\n",
            "NASA | ORG | Companies, agencies, institutions, etc.\n",
            "Asteroid | PERSON | People, including fictional\n",
            "2019 | DATE | Absolute or relative dates or periods\n"
          ]
        }
      ]
    },
    {
      "cell_type": "code",
      "source": [
        "from spacy import displacy\n",
        "from bs4 import BeautifulSoup\n",
        "\n",
        "dis = displacy.render(doc, style=\"ent\")\n",
        "\n",
        "soup = BeautifulSoup(dis)"
      ],
      "metadata": {
        "id": "COl8wMIupfuK"
      },
      "execution_count": null,
      "outputs": []
    },
    {
      "cell_type": "markdown",
      "source": [
        "<html>\n",
        " <body>\n",
        "  <div class=\"entities\" style=\"line-height: 2.5; direction: ltr\">\n",
        "   <mark class=\"entity\" style=\"background: #e4e7d2; padding: 0.45em 0.6em; margin: 0 0.25em; line-height: 1; border-radius: 0.35em;\">\n",
        "    024\n",
        "    <span style=\"font-size: 0.8em; font-weight: bold; line-height: 1; border-radius: 0.35em; vertical-align: middle; margin-left: 0.5rem\">\n",
        "     CARDINAL\n",
        "    </span>\n",
        "   </mark>\n",
        "   has begun multiple asteroid approaches in\n",
        "   <mark class=\"entity\" style=\"background: #bfe1d9; padding: 0.45em 0.6em; margin: 0 0.25em; line-height: 1; border-radius: 0.35em;\">\n",
        "    the first two days\n",
        "    <span style=\"font-size: 0.8em; font-weight: bold; line-height: 1; border-radius: 0.35em; vertical-align: middle; margin-left: 0.5rem\">\n",
        "     DATE\n",
        "    </span>\n",
        "   </mark>\n",
        "   ,\n",
        "   <br/>\n",
        "   and the trend is set to continue\n",
        "   <mark class=\"entity\" style=\"background: #bfe1d9; padding: 0.45em 0.6em; margin: 0 0.25em; line-height: 1; border-radius: 0.35em;\">\n",
        "    today\n",
        "    <span style=\"font-size: 0.8em; font-weight: bold; line-height: 1; border-radius: 0.35em; vertical-align: middle; margin-left: 0.5rem\">\n",
        "     DATE\n",
        "    </span>\n",
        "   </mark>\n",
        "   .\n",
        "   <br/>\n",
        "   As per\n",
        "   <mark class=\"entity\" style=\"background: #7aecec; padding: 0.45em 0.6em; margin: 0 0.25em; line-height: 1; border-radius: 0.35em;\">\n",
        "    the Center for Near-Earth Object Studies\n",
        "    <span style=\"font-size: 0.8em; font-weight: bold; line-height: 1; border-radius: 0.35em; vertical-align: middle; margin-left: 0.5rem\">\n",
        "     ORG\n",
        "    </span>\n",
        "   </mark>\n",
        "   (\n",
        "   <mark class=\"entity\" style=\"background: #7aecec; padding: 0.45em 0.6em; margin: 0 0.25em; line-height: 1; border-radius: 0.35em;\">\n",
        "    CNEOS\n",
        "    <span style=\"font-size: 0.8em; font-weight: bold; line-height: 1; border-radius: 0.35em; vertical-align: middle; margin-left: 0.5rem\">\n",
        "     ORG\n",
        "    </span>\n",
        "   </mark>\n",
        "   ),\n",
        "   <br/>\n",
        "   an asteroid is expected to pass\n",
        "   <mark class=\"entity\" style=\"background: #ff9561; padding: 0.45em 0.6em; margin: 0 0.25em; line-height: 1; border-radius: 0.35em;\">\n",
        "    Earth\n",
        "    <span style=\"font-size: 0.8em; font-weight: bold; line-height: 1; border-radius: 0.35em; vertical-align: middle; margin-left: 0.5rem\">\n",
        "     LOC\n",
        "    </span>\n",
        "   </mark>\n",
        "   by a close margin\n",
        "   <mark class=\"entity\" style=\"background: #bfe1d9; padding: 0.45em 0.6em; margin: 0 0.25em; line-height: 1; border-radius: 0.35em;\">\n",
        "    today\n",
        "    <span style=\"font-size: 0.8em; font-weight: bold; line-height: 1; border-radius: 0.35em; vertical-align: middle; margin-left: 0.5rem\">\n",
        "     DATE\n",
        "    </span>\n",
        "   </mark>\n",
        "   ,\n",
        "   <br/>\n",
        "   <mark class=\"entity\" style=\"background: #bfe1d9; padding: 0.45em 0.6em; margin: 0 0.25em; line-height: 1; border-radius: 0.35em;\">\n",
        "    January 3\n",
        "    <span style=\"font-size: 0.8em; font-weight: bold; line-height: 1; border-radius: 0.35em; vertical-align: middle; margin-left: 0.5rem\">\n",
        "     DATE\n",
        "    </span>\n",
        "   </mark>\n",
        "   . When\n",
        "   <mark class=\"entity\" style=\"background: #7aecec; padding: 0.45em 0.6em; margin: 0 0.25em; line-height: 1; border-radius: 0.35em;\">\n",
        "    NASA\n",
        "    <span style=\"font-size: 0.8em; font-weight: bold; line-height: 1; border-radius: 0.35em; vertical-align: middle; margin-left: 0.5rem\">\n",
        "     ORG\n",
        "    </span>\n",
        "   </mark>\n",
        "   's telescopes track a new\n",
        "   <mark class=\"entity\" style=\"background: #7aecec; padding: 0.45em 0.6em; margin: 0 0.25em; line-height: 1; border-radius: 0.35em;\">\n",
        "    Near-Earth Asteroid\n",
        "    <span style=\"font-size: 0.8em; font-weight: bold; line-height: 1; border-radius: 0.35em; vertical-align: middle; margin-left: 0.5rem\">\n",
        "     ORG\n",
        "    </span>\n",
        "   </mark>\n",
        "   (\n",
        "   <mark class=\"entity\" style=\"background: #7aecec; padding: 0.45em 0.6em; margin: 0 0.25em; line-height: 1; border-radius: 0.35em;\">\n",
        "    NEA\n",
        "    <span style=\"font-size: 0.8em; font-weight: bold; line-height: 1; border-radius: 0.35em; vertical-align: middle; margin-left: 0.5rem\">\n",
        "     ORG\n",
        "    </span>\n",
        "   </mark>\n",
        "   ),\n",
        "   <br/>\n",
        "   astronomers measure the asteroid's observed positions in the sky and report them to\n",
        "   <mark class=\"entity\" style=\"background: #7aecec; padding: 0.45em 0.6em; margin: 0 0.25em; line-height: 1; border-radius: 0.35em;\">\n",
        "    the Minor Planet Center\n",
        "    <span style=\"font-size: 0.8em; font-weight: bold; line-height: 1; border-radius: 0.35em; vertical-align: middle; margin-left: 0.5rem\">\n",
        "     ORG\n",
        "    </span>\n",
        "   </mark>\n",
        "   .\n",
        "   <br/>\n",
        "   <mark class=\"entity\" style=\"background: #7aecec; padding: 0.45em 0.6em; margin: 0 0.25em; line-height: 1; border-radius: 0.35em;\">\n",
        "    The Center for Near-Earth Object Studies\n",
        "    <span style=\"font-size: 0.8em; font-weight: bold; line-height: 1; border-radius: 0.35em; vertical-align: middle; margin-left: 0.5rem\">\n",
        "     ORG\n",
        "    </span>\n",
        "   </mark>\n",
        "   (\n",
        "   <mark class=\"entity\" style=\"background: #7aecec; padding: 0.45em 0.6em; margin: 0 0.25em; line-height: 1; border-radius: 0.35em;\">\n",
        "    CNEOS\n",
        "    <span style=\"font-size: 0.8em; font-weight: bold; line-height: 1; border-radius: 0.35em; vertical-align: middle; margin-left: 0.5rem\">\n",
        "     ORG\n",
        "    </span>\n",
        "   </mark>\n",
        "   ) then uses that data to determine the asteroid's most likely orbit around the\n",
        "   <mark class=\"entity\" style=\"background: #ff9561; padding: 0.45em 0.6em; margin: 0 0.25em; line-height: 1; border-radius: 0.35em;\">\n",
        "    Sun\n",
        "    <span style=\"font-size: 0.8em; font-weight: bold; line-height: 1; border-radius: 0.35em; vertical-align: middle; margin-left: 0.5rem\">\n",
        "     LOC\n",
        "    </span>\n",
        "   </mark>\n",
        "   ,\n",
        "   <br/>\n",
        "   according to\n",
        "   <mark class=\"entity\" style=\"background: #7aecec; padding: 0.45em 0.6em; margin: 0 0.25em; line-height: 1; border-radius: 0.35em;\">\n",
        "    NASA\n",
        "    <span style=\"font-size: 0.8em; font-weight: bold; line-height: 1; border-radius: 0.35em; vertical-align: middle; margin-left: 0.5rem\">\n",
        "     ORG\n",
        "    </span>\n",
        "   </mark>\n",
        "   . Using this method, know details about\n",
        "   <mark class=\"entity\" style=\"background: #aa9cfc; padding: 0.45em 0.6em; margin: 0 0.25em; line-height: 1; border-radius: 0.35em;\">\n",
        "    Asteroid\n",
        "    <span style=\"font-size: 0.8em; font-weight: bold; line-height: 1; border-radius: 0.35em; vertical-align: middle; margin-left: 0.5rem\">\n",
        "     PERSON\n",
        "    </span>\n",
        "   </mark>\n",
        "   <mark class=\"entity\" style=\"background: #bfe1d9; padding: 0.45em 0.6em; margin: 0 0.25em; line-height: 1; border-radius: 0.35em;\">\n",
        "    2019\n",
        "    <span style=\"font-size: 0.8em; font-weight: bold; line-height: 1; border-radius: 0.35em; vertical-align: middle; margin-left: 0.5rem\">\n",
        "     DATE\n",
        "    </span>\n",
        "   </mark>\n",
        "   KK5 such as its speed, size, and distance of approach.\n",
        "  </div>\n",
        " </body>\n",
        "</html>"
      ],
      "metadata": {
        "id": "1Bxm-djktQ8s"
      }
    },
    {
      "cell_type": "code",
      "source": [
        "from spacy.tokens import Span\n",
        "s1 = Span(doc, 0 ,1, label='ORG')\n",
        "s2 = Span(doc, 5,6, label='Date')\n"
      ],
      "metadata": {
        "id": "fPMVHMcvr0rJ"
      },
      "execution_count": null,
      "outputs": []
    },
    {
      "cell_type": "code",
      "source": [
        "doc.set_ents([s1,s2], default='unmodified')"
      ],
      "metadata": {
        "id": "GMb4r6EcwvSQ"
      },
      "execution_count": null,
      "outputs": []
    },
    {
      "cell_type": "code",
      "source": [
        "doc"
      ],
      "metadata": {
        "colab": {
          "base_uri": "https://localhost:8080/"
        },
        "id": "Sn145inJwv4R",
        "outputId": "7cf6b2a4-e5ec-4e31-e2e6-42c80fceba61"
      },
      "execution_count": null,
      "outputs": [
        {
          "output_type": "execute_result",
          "data": {
            "text/plain": [
              "024 has begun multiple asteroid approaches in the first two days,\n",
              " and the trend is set to continue today. \n",
              " As per the Center for Near-Earth Object Studies (CNEOS), \n",
              " an asteroid is expected to pass Earth by a close margin today, \n",
              " January 3. When NASA's telescopes track a new Near-Earth Asteroid (NEA), \n",
              " astronomers measure the asteroid's observed positions in the sky and report them to the Minor Planet Center. \n",
              " The Center for Near-Earth Object Studies (CNEOS) then uses that data to determine the asteroid's most likely orbit around the Sun, \n",
              " according to NASA. Using this method, know details about Asteroid 2019 KK5 such as its speed, size, and distance of approach."
            ]
          },
          "metadata": {},
          "execution_count": 55
        }
      ]
    },
    {
      "cell_type": "code",
      "source": [
        "for i in doc.ents:\n",
        "  print(i.text, \"|\", i.label_)"
      ],
      "metadata": {
        "colab": {
          "base_uri": "https://localhost:8080/"
        },
        "id": "cwIvr1sRxhoW",
        "outputId": "c5e6f7ce-78de-47df-d5c6-cc3f4c5b77d7"
      },
      "execution_count": null,
      "outputs": [
        {
          "output_type": "stream",
          "name": "stdout",
          "text": [
            "024 | ORG\n",
            "approaches | Date\n",
            "the first two days | DATE\n",
            "today | DATE\n",
            "the Center for Near-Earth Object Studies | ORG\n",
            "CNEOS | ORG\n",
            "Earth | LOC\n",
            "today | DATE\n",
            "January 3 | DATE\n",
            "NASA | ORG\n",
            "Near-Earth Asteroid | ORG\n",
            "NEA | ORG\n",
            "the Minor Planet Center | ORG\n",
            "The Center for Near-Earth Object Studies | ORG\n",
            "CNEOS | ORG\n",
            "Sun | LOC\n",
            "NASA | ORG\n",
            "Asteroid | PERSON\n",
            "2019 | DATE\n"
          ]
        }
      ]
    },
    {
      "cell_type": "code",
      "source": [],
      "metadata": {
        "id": "4KRsdc7N7CYM"
      },
      "execution_count": null,
      "outputs": []
    },
    {
      "cell_type": "code",
      "source": [],
      "metadata": {
        "id": "XnrwoF3r7CGn"
      },
      "execution_count": null,
      "outputs": []
    },
    {
      "cell_type": "code",
      "source": [
        "!!curl -O https://www.manythings.org/anki/fra-eng.zip\n",
        "!!unzip fra-eng.zip"
      ],
      "metadata": {
        "colab": {
          "base_uri": "https://localhost:8080/"
        },
        "id": "ibkifeOcx69c",
        "outputId": "34c01f28-2505-4716-d1af-f70a5ece5973"
      },
      "execution_count": null,
      "outputs": [
        {
          "output_type": "execute_result",
          "data": {
            "text/plain": [
              "['Archive:  fra-eng.zip',\n",
              " 'replace _about.txt? [y]es, [n]o, [A]ll, [N]one, [r]ename: ']"
            ]
          },
          "metadata": {},
          "execution_count": 59
        }
      ]
    },
    {
      "cell_type": "code",
      "source": [
        "import spacy\n",
        "from spacy.training.example import Example\n",
        "\n",
        "# Load spaCy's pre-trained English model\n",
        "nlp = spacy.load(\"en_core_web_sm\")\n",
        "\n",
        "# Prepare labeled data\n",
        "training_data = [\n",
        "    (\"Apple Inc. was founded by Steve Jobs in Cupertino.\", {\"entities\": [(0, 10, \"ORG\"), (32, 42, \"PERSON\"), (46, 56, \"GPE\")]}),\n",
        "    # Add more examples as needed\n",
        "]\n",
        "\n",
        "# Add NER labels to the pipeline\n",
        "ner = nlp.get_pipe(\"ner\")\n",
        "ner.add_label(\"ORG\")\n",
        "ner.add_label(\"PERSON\")\n",
        "ner.add_label(\"GPE\")\n",
        "\n",
        "# Prepare training data in spaCy format\n",
        "train_data_spacy = []\n",
        "\n",
        "for text, annotations in training_data:\n",
        "    example = Example.from_dict(nlp.make_doc(text), annotations)\n",
        "    train_data_spacy.append(example)\n",
        "\n",
        "# Disable other components and train only NER\n",
        "with nlp.disable_pipes([\"tagger\", \"parser\"]):\n",
        "    # Train the NER model\n",
        "    for epoch in range(10):  # You can adjust the number of epochs\n",
        "        for example in train_data_spacy:\n",
        "            nlp.update([example], drop=0.5)\n",
        "\n",
        "# Test the model\n",
        "test_sentence = \"Microsoft, headquartered in Redmond, was founded by Bill Gates.\"\n",
        "doc = nlp(test_sentence)\n",
        "\n",
        "for ent in doc.ents:\n",
        "    print(ent.text, ent.label_)\n"
      ],
      "metadata": {
        "colab": {
          "base_uri": "https://localhost:8080/"
        },
        "id": "1gRR1SYGHl9H",
        "outputId": "060c69e8-c3db-476e-ceb9-825859e363a5"
      },
      "execution_count": 135,
      "outputs": [
        {
          "output_type": "stream",
          "name": "stderr",
          "text": [
            "/usr/local/lib/python3.10/dist-packages/spacy/training/iob_utils.py:149: UserWarning: [W030] Some entities could not be aligned in the text \"Apple Inc. was founded by Steve Jobs in Cupertino.\" with entities \"[(0, 10, 'ORG'), (32, 42, 'PERSON'), (46, 56, 'GPE...\". Use `spacy.training.offsets_to_biluo_tags(nlp.make_doc(text), entities)` to check the alignment. Misaligned entities ('-') will be ignored during training.\n",
            "  warnings.warn(\n"
          ]
        },
        {
          "output_type": "stream",
          "name": "stdout",
          "text": [
            "Microsoft ORG\n",
            "Redmond GPE\n"
          ]
        }
      ]
    },
    {
      "cell_type": "code",
      "source": [
        "import spacy\n",
        "from spacy.training.example import Example\n",
        "\n",
        "# Load spaCy's pre-trained English model\n",
        "nlp = spacy.load(\"en_core_web_sm\")\n",
        "\n",
        "# Prepare labeled data\n",
        "training_data = [\n",
        "    (\"The year is 2050, and Quantum Innovations, a leading tech company, has announced groundbreaking advancements in artificial intelligence.\", {\"entities\": [(44, 62, \"ORG\")]}),\n",
        "    (\"Their research team, based in New York City, has developed a revolutionary neural network capable of understanding and responding to human emotions.\", {\"entities\": [(33, 47, \"LOC\")]}),\n",
        "    (\"The technology, named EmoSense, has applications in various fields, including healthcare, customer service, and entertainment.\", {\"entities\": [(31, 39, \"PRODUCT\")]}),\n",
        "    (\"In a recent press conference held at the Grand Tech Expo, Quantum Innovations' CEO, Dr. Olivia Chang, unveiled the EmoSense platform.\", {\"entities\": [(84, 102, \"ORG\"), (109, 124, \"PERSON\"), (134, 149, \"EVENT\")]}),\n",
        "    (\"The event, attended by industry experts, journalists, and enthusiasts, showcased the incredible potential of this AI breakthrough.\", {\"entities\": []}),\n",
        "    (\"Dr. Chang emphasized the ethical use of EmoSense and its positive impact on society.\", {\"entities\": [(0, 13, \"PERSON\")]}),\n",
        "    (\"The company plans to collaborate with healthcare providers to integrate EmoSense into patient care, monitoring emotional well-being alongside physical health.\", {\"entities\": []}),\n",
        "    (\"Additionally, Quantum Innovations aims to partner with major e-commerce platforms to enhance customer service experiences through emotionally intelligent virtual assistants.\", {\"entities\": [(12, 30, \"ORG\")]}),\n",
        "    (\"The EmoSense technology has sparked global interest, with inquiries pouring in from businesses, research institutions, and governments.\", {\"entities\": [(4, 12, \"PRODUCT\")]}),\n",
        "    (\"As Quantum Innovations continues to lead the way in AI innovation, the future seems promising for a world where machines can understand and respond to human emotions in meaningful ways.\", {\"entities\": [(3, 21, \"ORG\")]}),\n",
        "]\n",
        "\n",
        "# Add NER labels to the pipeline\n",
        "ner = nlp.get_pipe(\"ner\")\n",
        "ner.add_label(\"ORG\")\n",
        "ner.add_label(\"LOC\")\n",
        "ner.add_label(\"PRODUCT\")\n",
        "ner.add_label(\"PERSON\")\n",
        "ner.add_label(\"EVENT\")\n",
        "\n",
        "# Prepare training data in spaCy format\n",
        "train_data_spacy = []\n",
        "\n",
        "for text, annotations in training_data:\n",
        "    example = Example.from_dict(nlp.make_doc(text), annotations)\n",
        "    train_data_spacy.append(example)\n",
        "\n",
        "# Disable other components and train only NER\n",
        "with nlp.disable_pipes([\"tagger\", \"parser\"]):\n",
        "    # Train the NER model\n",
        "    for epoch in range(10):  # You can adjust the number of epochs\n",
        "        for example in train_data_spacy:\n",
        "            nlp.update([example], drop=0.5)\n",
        "\n",
        "# Test the model\n",
        "\n",
        "test_sentence = \"Quantum Innovations' EmoSense technology was unveiled by Dr. Olivia Chang at a recent event in New York City.\"\n",
        "doc = nlp(test_sentence)\n",
        "\n",
        "for ent in doc.ents:\n",
        "    print(ent.text, ent.label_)\n"
      ],
      "metadata": {
        "colab": {
          "base_uri": "https://localhost:8080/"
        },
        "id": "9H4f3hcRKfB2",
        "outputId": "02141716-9207-4a43-f316-8ba393e12242"
      },
      "execution_count": 140,
      "outputs": [
        {
          "output_type": "stream",
          "name": "stdout",
          "text": [
            "Olivia Chang PERSON\n"
          ]
        }
      ]
    },
    {
      "cell_type": "code",
      "source": [],
      "metadata": {
        "id": "rPi1AmDDK68B"
      },
      "execution_count": null,
      "outputs": []
    }
  ]
}