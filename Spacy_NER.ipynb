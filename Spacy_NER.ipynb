{
  "nbformat": 4,
  "nbformat_minor": 0,
  "metadata": {
    "colab": {
      "provenance": []
    },
    "kernelspec": {
      "name": "python3",
      "display_name": "Python 3"
    },
    "language_info": {
      "name": "python"
    }
  },
  "cells": [
    {
      "cell_type": "code",
      "source": [
        "import spacy\n",
        "# Load the spaCy model\n",
        "nlp = spacy.load('en_core_web_sm')\n",
        "ruler = nlp.add_pipe('entity_ruler')"
      ],
      "metadata": {
        "id": "IMoO02ENUDt8"
      },
      "execution_count": null,
      "outputs": []
    },
    {
      "cell_type": "code",
      "source": [
        "event_phrases = [\"meet\", \"meeting\", \"scheduled\", \"appointment\", \"event\", \"conference\", \"seminar\", \"workshop\", \"presentation\",\n",
        "                 \"gathering\", \"symposium\", \"convention\", \"ceremony\", \"forum\", \"session\", \"lecture\", \"webinar\", \"training\",\n",
        "                 \"summit\", \"forum\", \"reception\", \"gala\", \"party\", \"launch\", \"showcase\", \"exhibition\", \"trade show\",\n",
        "                 \"product launch\", \"networking\", \"roundtable\", \"panel discussion\", \"town hall\", \"townhall\", \"forum\",\n",
        "                 \"discussion\", \"briefing\", \"retreat\", \"retreat event\", \"workshop\", \"seminar\", \"training session\",\n",
        "                 \"team-building\", \"hackathon\", \"hackfest\", \"hack day\", \"competition\", \"contest\", \"exposition\",\n",
        "                 \"business meeting\", \"board meeting\", \"annual general meeting\", \"stakeholder meeting\", \"town meeting\",\n",
        "                 \"townhall meeting\", \"quarterly review\", \"strategy session\", \"brainstorming\", \"planning session\",\n",
        "                 \"focus group\", \"launch party\", \"product demo\", \"trade fair\", \"expo\", \"fair\", \"festival\",\n",
        "                 \"ceremonial event\", \"award ceremony\", \"graduation ceremony\", \"fundraiser\", \"charity event\",\n",
        "                 \"charity gala\", \"fundraising event\", \"benefit concert\", \"charity auction\", \"volunteer event\",\n",
        "                 \"community event\", \"cultural event\", \"art exhibition\", \"music festival\", \"film festival\",\n",
        "                 \"food festival\", \"sports event\", \"athletic competition\", \"marathon\", \"race\", \"tournament\"]\n",
        "\n",
        "pattern = {\"pattern\": [{\"LOWER\": {\"FUZZY2\": ''}}], \"label\": \"event\"}\n",
        "\n",
        "for event in event_phrases:\n",
        "  pattern['pattern'][0]['LOWER']['FUZZY2'] = event\n",
        "  ruler.add_patterns([pattern])\n"
      ],
      "metadata": {
        "id": "Z26kv9xK3dS8"
      },
      "execution_count": null,
      "outputs": []
    },
    {
      "cell_type": "code",
      "execution_count": null,
      "metadata": {
        "colab": {
          "base_uri": "https://localhost:8080/",
          "height": 104
        },
        "id": "6O3ce5NyTePL",
        "outputId": "4d19dbf3-528d-4713-beab-e727e6d35156"
      },
      "outputs": [
        {
          "output_type": "display_data",
          "data": {
            "text/plain": [
              "<IPython.core.display.HTML object>"
            ],
            "text/html": [
              "<span class=\"tex2jax_ignore\"><div class=\"entities\" style=\"line-height: 2.5; direction: ltr\">\n",
              "<mark class=\"entity\" style=\"background: #ffeb80; padding: 0.45em 0.6em; margin: 0 0.25em; line-height: 1; border-radius: 0.35em;\">\n",
              "    session\n",
              "    <span style=\"font-size: 0.8em; font-weight: bold; line-height: 1; border-radius: 0.35em; vertical-align: middle; margin-left: 0.5rem\">event</span>\n",
              "</mark>\n",
              " at \n",
              "<mark class=\"entity\" style=\"background: #bfe1d9; padding: 0.45em 0.6em; margin: 0 0.25em; line-height: 1; border-radius: 0.35em;\">\n",
              "    10:00 AM tomorrow\n",
              "    <span style=\"font-size: 0.8em; font-weight: bold; line-height: 1; border-radius: 0.35em; vertical-align: middle; margin-left: 0.5rem\">TIME</span>\n",
              "</mark>\n",
              " with mayur</div></span>"
            ]
          },
          "metadata": {}
        },
        {
          "output_type": "stream",
          "name": "stdout",
          "text": [
            "event\n",
            "TIME\n",
            "{'Date': None, 'Time': '10:00 AM tomorrow', 'Location': None, 'Event': True}\n"
          ]
        }
      ],
      "source": [
        "def extract_event_details(text):\n",
        "    # Process the text using spaCy\n",
        "    doc = nlp(text)\n",
        "    # Initialize empty dictionary to store event details\n",
        "    event_details = {'Date': None, 'Time': None, 'Location': None, 'Event': False}\n",
        "\n",
        "    # Iterate over entities and check for dates, times, and locations\n",
        "    event_phrases = [\"meet\", \"meeting\", \"scheduled\", \"appointment\", \"event\", \"conference\", \"seminar\", \"workshop\", \"presentation\", \"gathering\", \"symposium\",\n",
        "                     \"convention\", \"ceremony\", \"forum\", \"session\", \"lecture\", \"webinar\", \"training\", \"summit\", \"forum\", \"reception\", \"gala\", \"party\",\n",
        "                     \"launch\", \"showcase\", \"exhibition\", \"trade show\", \"\"]\n",
        "\n",
        "    spacy.displacy.render(doc, style=\"ent\", jupyter=True)\n",
        "\n",
        "    for ent in doc.ents:\n",
        "        print(ent.label_)\n",
        "        if ent.label_ == 'DATE':\n",
        "            event_details['Date'] = ent.text\n",
        "        elif ent.label_ == 'TIME':\n",
        "            event_details['Time'] = ent.text\n",
        "        elif ent.label_ == 'GPE' or ent.label_ == 'LOC':\n",
        "            event_details['Location'] = ent.text\n",
        "        elif ent.label_ == 'event':\n",
        "            event_details['Event'] = True\n",
        "\n",
        "    return event_details\n",
        "\n",
        "# Example text\n",
        "text = \"session at 10:00 AM tomorrow with mayur\"\n",
        "print(extract_event_details(text))\n",
        "\n",
        "\n",
        "# https://www.youtube.com/watch?v=TVBJMwSyJL8"
      ]
    },
    {
      "cell_type": "code",
      "source": [],
      "metadata": {
        "id": "O7AhrRaVtgqj"
      },
      "execution_count": null,
      "outputs": []
    },
    {
      "cell_type": "code",
      "source": [
        "import spacy\n",
        "from spacy.matcher import Matcher\n",
        "from fuzzywuzzy import fuzz\n",
        "\n",
        "# Load the English NLP model from spaCy\n",
        "nlp = spacy.load(\"en_core_web_sm\")\n",
        "\n",
        "def is_event(token):\n",
        "    # Function to check if a token is an event using high-level fuzzy matching\n",
        "    event_keywords = [\"meet\", \"meeting\", \"scheduled\", \"appointment\", \"event\"]  # Add more keywords as needed\n",
        "    for keyword in event_keywords:\n",
        "        if fuzz.ratio(token.lower_, keyword.lower()) > 90:  # Adjust the threshold as needed (e.g., 90)\n",
        "            return True\n",
        "    return False\n",
        "\n",
        "def extract_event_details(text):\n",
        "    # Process the text using spaCy\n",
        "    doc = nlp(text)\n",
        "\n",
        "    # Initialize empty dictionary to store event details\n",
        "    event_details = {'Date': None, 'Time': None, 'Location': None, 'Event': False}\n",
        "\n",
        "    # Define a pattern for event phrases using spaCy's Matcher\n",
        "    event_pattern = [{\"TEXT\": {\"FUZZY\": {\"IN\": [\"meet\", \"meeting\", \"scheduled\", \"appointment\", \"event\"]}}}]\n",
        "    matcher = Matcher(nlp.vocab)\n",
        "    matcher.add(\"EVENT_PATTERN\", [event_pattern])\n",
        "\n",
        "    # Use the matcher to find matches in the text\n",
        "    matches = matcher(doc)\n",
        "\n",
        "    # If there is a match, set 'Event' to True\n",
        "    if matches:\n",
        "        event_details['Event'] = True\n",
        "\n",
        "    # Iterate over entities and check for dates, times, and locations\n",
        "    for ent in doc.ents:\n",
        "        if ent.label_ == 'DATE':\n",
        "            event_details['Date'] = ent.text\n",
        "        elif ent.label_ == 'TIME':\n",
        "            event_details['Time'] = ent.text\n",
        "        elif ent.label_ in ['GPE', 'LOC']:\n",
        "            event_details['Location'] = ent.text\n",
        "\n",
        "    return event_details\n",
        "\n",
        "# Example text\n",
        "text = \"For identifying the issue with the tree health, we organize an event on this day.\"\n",
        "event_info = extract_event_details(text)\n",
        "print(event_info)\n"
      ],
      "metadata": {
        "colab": {
          "base_uri": "https://localhost:8080/"
        },
        "id": "bEPx6I5_JKhl",
        "outputId": "fcb28c47-3517-4a9f-e8a2-1e2d8288478d"
      },
      "execution_count": null,
      "outputs": [
        {
          "output_type": "stream",
          "name": "stdout",
          "text": [
            "{'Date': 'this day', 'Time': None, 'Location': None, 'Event': True}\n"
          ]
        }
      ]
    },
    {
      "cell_type": "code",
      "source": [],
      "metadata": {
        "id": "I3NERNTnV_9m"
      },
      "execution_count": null,
      "outputs": []
    }
  ]
}