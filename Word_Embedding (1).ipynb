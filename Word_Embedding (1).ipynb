{
  "nbformat": 4,
  "nbformat_minor": 0,
  "metadata": {
    "colab": {
      "provenance": []
    },
    "kernelspec": {
      "name": "python3",
      "display_name": "Python 3"
    },
    "language_info": {
      "name": "python"
    }
  },
  "cells": [
    {
      "cell_type": "code",
      "execution_count": 1,
      "metadata": {
        "id": "P6KCOIRuP3GB"
      },
      "outputs": [],
      "source": [
        "import numpy as np\n",
        "from sklearn.manifold import TSNE\n",
        "import matplotlib.pyplot as plt"
      ]
    },
    {
      "cell_type": "markdown",
      "source": [
        "# Word2Vec Model"
      ],
      "metadata": {
        "id": "3IDKNUgRDTRl"
      }
    },
    {
      "cell_type": "code",
      "source": [],
      "metadata": {
        "id": "ITGgbpdaDQVv"
      },
      "execution_count": null,
      "outputs": []
    },
    {
      "cell_type": "code",
      "source": [
        "import gensim.downloader as api\n",
        "word2vec_model = api.load('word2vec-google-news-300')"
      ],
      "metadata": {
        "colab": {
          "base_uri": "https://localhost:8080/"
        },
        "id": "QmRyRtj_cLBX",
        "outputId": "3236580c-e817-4ad7-cba2-e5c3ea679c49"
      },
      "execution_count": 4,
      "outputs": [
        {
          "output_type": "stream",
          "name": "stdout",
          "text": [
            "[==================================================] 100.0% 1662.8/1662.8MB downloaded\n"
          ]
        }
      ]
    },
    {
      "cell_type": "code",
      "source": [
        "word2vec_model['awesome']"
      ],
      "metadata": {
        "id": "bX_TnMjScaMZ",
        "colab": {
          "base_uri": "https://localhost:8080/"
        },
        "outputId": "c86a7d6f-f3b7-4e3d-ef3a-68f95c99a51f"
      },
      "execution_count": 5,
      "outputs": [
        {
          "output_type": "execute_result",
          "data": {
            "text/plain": [
              "array([ 7.47070312e-02, -9.03320312e-02, -5.59082031e-02,  1.20117188e-01,\n",
              "        8.23974609e-03, -3.58886719e-02,  7.22656250e-02, -1.40625000e-01,\n",
              "       -1.09863281e-01,  2.40234375e-01, -1.68457031e-02, -1.99218750e-01,\n",
              "        5.32226562e-02, -2.96875000e-01,  7.95898438e-02,  2.15820312e-01,\n",
              "        2.05078125e-01,  1.36718750e-01, -1.07910156e-01,  4.99725342e-04,\n",
              "       -1.69677734e-02,  3.69140625e-01,  1.60156250e-01, -3.34472656e-02,\n",
              "        1.25000000e-01, -2.33398438e-01, -4.37011719e-02,  1.01074219e-01,\n",
              "        1.38671875e-01, -2.85156250e-01, -5.73730469e-02,  1.77734375e-01,\n",
              "        2.53906250e-01,  2.96875000e-01,  1.70898438e-01, -9.22851562e-02,\n",
              "        8.39843750e-02,  1.79443359e-02,  6.83593750e-02,  2.98828125e-01,\n",
              "        2.83203125e-01, -1.04492188e-01,  3.63281250e-01,  8.25195312e-02,\n",
              "       -4.80957031e-02, -1.87500000e-01,  7.95898438e-02, -8.85009766e-03,\n",
              "        3.46679688e-02, -2.24609375e-02,  4.79125977e-03,  2.00195312e-01,\n",
              "       -2.58789062e-02,  1.75781250e-01,  1.13525391e-02,  1.40625000e-01,\n",
              "        1.34765625e-01, -9.71679688e-02,  2.49023438e-01, -9.03320312e-02,\n",
              "       -1.80664062e-01,  7.86132812e-02, -1.69921875e-01, -1.35742188e-01,\n",
              "        1.16699219e-01, -8.15429688e-02, -1.32812500e-01, -1.79687500e-01,\n",
              "       -2.96875000e-01,  2.38281250e-01,  5.95703125e-02, -5.10253906e-02,\n",
              "        5.95703125e-02,  9.42382812e-02, -1.38671875e-01, -1.09863281e-01,\n",
              "        3.80859375e-02,  1.12792969e-01, -2.96630859e-02, -6.15234375e-02,\n",
              "       -7.03125000e-02, -6.98242188e-02, -8.74023438e-02,  5.83496094e-02,\n",
              "        5.12695312e-03, -1.81640625e-01, -1.83593750e-01,  3.32031250e-01,\n",
              "        1.09252930e-02, -4.15039062e-02, -1.38671875e-01,  6.73828125e-02,\n",
              "       -1.93359375e-01,  1.74804688e-01, -1.69921875e-01,  2.25585938e-01,\n",
              "       -2.16064453e-02,  3.43750000e-01, -6.93359375e-02, -2.85156250e-01,\n",
              "       -2.00195312e-01,  2.71484375e-01, -5.07812500e-02, -1.54296875e-01,\n",
              "       -1.08886719e-01,  2.35351562e-01, -8.39843750e-02, -2.19726562e-01,\n",
              "       -3.88183594e-02,  2.14843750e-02, -1.47460938e-01,  4.71191406e-02,\n",
              "       -6.22558594e-03, -4.56542969e-02,  2.87109375e-01, -1.63085938e-01,\n",
              "        1.21307373e-03, -3.34472656e-02,  4.34570312e-02, -3.22265625e-01,\n",
              "        3.41796875e-02, -2.35351562e-01,  2.94921875e-01,  2.62451172e-02,\n",
              "       -1.13525391e-02, -8.15429688e-02, -1.03027344e-01, -9.57031250e-02,\n",
              "       -4.37011719e-02,  2.71484375e-01, -2.57812500e-01, -8.25195312e-02,\n",
              "       -1.03515625e-01,  3.14453125e-01, -8.20312500e-02,  6.39648438e-02,\n",
              "       -7.81250000e-02,  6.68945312e-02, -1.41601562e-01,  1.78710938e-01,\n",
              "        8.83789062e-02,  1.89453125e-01,  1.82617188e-01,  1.01318359e-02,\n",
              "       -1.56250000e-01,  4.91333008e-03,  9.66796875e-02, -4.39453125e-02,\n",
              "       -3.97949219e-02, -3.55468750e-01,  3.45703125e-01,  5.50781250e-01,\n",
              "       -1.11328125e-01,  2.49023438e-01, -1.14746094e-01,  6.78710938e-02,\n",
              "        2.62451172e-02, -2.53906250e-01, -3.02734375e-01, -1.48437500e-01,\n",
              "        2.55126953e-02,  2.16064453e-02,  1.64062500e-01,  1.73828125e-01,\n",
              "        1.64062500e-01, -4.88281250e-01,  1.50390625e-01, -1.98242188e-01,\n",
              "        1.44042969e-02,  1.35742188e-01, -5.83496094e-02,  1.24511719e-01,\n",
              "        9.76562500e-02,  1.54296875e-01, -1.52343750e-01,  1.45507812e-01,\n",
              "        6.17675781e-02, -2.59765625e-01, -1.60156250e-01, -1.33666992e-02,\n",
              "       -2.18750000e-01, -2.55859375e-01,  2.09960938e-01, -8.15429688e-02,\n",
              "       -1.30859375e-01,  1.61132812e-02, -1.24511719e-01,  2.51464844e-02,\n",
              "       -2.27539062e-01, -2.47070312e-01, -4.37011719e-02,  2.34375000e-01,\n",
              "        1.20117188e-01, -2.61718750e-01, -9.47265625e-02, -6.83593750e-02,\n",
              "        1.49414062e-01, -1.76757812e-01, -1.13281250e-01, -2.31445312e-01,\n",
              "        3.05175781e-02,  2.69531250e-01, -1.21093750e-01, -5.20019531e-02,\n",
              "        6.49414062e-02,  2.30468750e-01, -2.10937500e-01, -9.86328125e-02,\n",
              "       -2.30468750e-01,  2.87109375e-01, -7.91015625e-02,  7.47070312e-02,\n",
              "       -2.03125000e-01, -1.03027344e-01,  1.08642578e-02, -1.27929688e-01,\n",
              "        3.10546875e-01, -1.01562500e-01, -1.23046875e-01, -1.52343750e-01,\n",
              "       -1.51367188e-01,  2.57812500e-01,  2.43164062e-01, -6.29882812e-02,\n",
              "        9.42382812e-02, -3.58886719e-02, -9.08203125e-02, -3.93066406e-02,\n",
              "       -1.16699219e-01, -2.24609375e-02, -1.91406250e-01,  1.12304688e-01,\n",
              "        7.86132812e-02,  4.22363281e-02,  2.34375000e-01,  2.15820312e-01,\n",
              "       -4.41894531e-02, -1.33789062e-01,  2.63671875e-01,  1.59179688e-01,\n",
              "        3.29589844e-02,  1.12792969e-01, -2.50244141e-02, -3.57421875e-01,\n",
              "       -1.80664062e-01, -1.08032227e-02, -1.43554688e-01, -2.15820312e-01,\n",
              "       -1.00097656e-01, -4.14062500e-01, -8.69140625e-02,  2.39257812e-01,\n",
              "        2.20703125e-01,  2.77343750e-01,  1.77734375e-01, -3.37890625e-01,\n",
              "        4.39453125e-02, -3.30078125e-01, -1.06445312e-01, -2.85156250e-01,\n",
              "       -9.81445312e-02, -4.95605469e-02,  3.66210938e-02, -6.59179688e-02,\n",
              "        6.71386719e-03,  3.84521484e-03,  1.91406250e-01, -1.41601562e-01,\n",
              "        2.00195312e-02,  2.91748047e-02, -1.28906250e-01, -2.36816406e-02,\n",
              "        2.57812500e-01,  1.87500000e-01,  1.55273438e-01, -2.51953125e-01,\n",
              "        1.39648438e-01, -3.12500000e-02,  1.42211914e-02,  3.01513672e-02,\n",
              "        1.18652344e-01, -6.83593750e-03, -3.14453125e-01,  2.02636719e-02,\n",
              "       -1.89453125e-01,  5.64575195e-03, -4.80957031e-02, -2.33398438e-01,\n",
              "        2.77099609e-02, -1.78710938e-01,  9.22851562e-02,  9.37500000e-02,\n",
              "       -2.83203125e-01,  9.58251953e-03, -3.55468750e-01, -1.60156250e-01,\n",
              "        5.59082031e-02, -2.61718750e-01, -2.06054688e-01, -1.74804688e-01],\n",
              "      dtype=float32)"
            ]
          },
          "metadata": {},
          "execution_count": 5
        }
      ]
    },
    {
      "cell_type": "code",
      "source": [
        "word2vec_model.most_similar(\"Perfect\")"
      ],
      "metadata": {
        "colab": {
          "base_uri": "https://localhost:8080/"
        },
        "id": "KKZpZSWOh7z8",
        "outputId": "0d6d4916-907d-4771-ae99-05df41dec170"
      },
      "execution_count": 12,
      "outputs": [
        {
          "output_type": "execute_result",
          "data": {
            "text/plain": [
              "[('http://www.pwrd.com', 0.591183602809906),\n",
              " ('perfect', 0.5136504769325256),\n",
              " ('Ideal', 0.5126502513885498),\n",
              " ('weatherproof_Jacksonville_Jaguars', 0.5075591802597046),\n",
              " ('Diamond_Engagement_Ring', 0.5012430548667908),\n",
              " ('Zachary_Levi_Less_Than', 0.49628758430480957),\n",
              " ('Amazing', 0.48599687218666077),\n",
              " ('Wonderful', 0.48039498925209045),\n",
              " ('Good', 0.4792042672634125),\n",
              " (\"Can't_Miss\", 0.4760766923427582)]"
            ]
          },
          "metadata": {},
          "execution_count": 12
        }
      ]
    },
    {
      "cell_type": "code",
      "source": [
        "word2vec_model.most_similar(positive=['train','vehicle'], negative=['bike'], topn=1)"
      ],
      "metadata": {
        "colab": {
          "base_uri": "https://localhost:8080/"
        },
        "id": "0Rqi_oEhiGv5",
        "outputId": "bfdafe1b-017c-4d0c-c030-fa024fa6033e"
      },
      "execution_count": 13,
      "outputs": [
        {
          "output_type": "execute_result",
          "data": {
            "text/plain": [
              "[('locomotive', 0.5334706902503967)]"
            ]
          },
          "metadata": {},
          "execution_count": 13
        }
      ]
    },
    {
      "cell_type": "code",
      "source": [
        "vocab = [\"lion\", \"banana\", \"yellow\", \"grape\", \"kiwi\", \"Japan\", \"cherry\", \"orange\", \"brown\" ,\"monkey\", \"peach\",\"white\",\"Mexico\"]\n",
        "\n",
        "def tsne_plot(model):\n",
        "  labels = []\n",
        "  wordvecs = []\n",
        "\n",
        "  for word in vocab:\n",
        "    wordvecs.append(model[word])\n",
        "    labels.append(word)\n",
        "\n",
        "  wordvecs = np.array(wordvecs)\n",
        "  # print(wordvecs)\n",
        "  tsne_model = TSNE(perplexity=3, n_components=2, init='pca', random_state=42)\n",
        "  coordinates = tsne_model.fit_transform(wordvecs)\n",
        "\n",
        "  x = []\n",
        "  y = []\n",
        "\n",
        "  for i in coordinates:\n",
        "    x.append(i[0])\n",
        "    y.append(i[1])\n",
        "\n",
        "  plt.figure(figsize=(8,8))\n",
        "  for n in range(len(x)):\n",
        "    plt.scatter(x[n],y[n])\n",
        "    plt.annotate(labels[n],\n",
        "                 xy = (x[n], y[n]),\n",
        "                 xytext=(2,2),\n",
        "                 textcoords='offset points',\n",
        "                 ha='right',\n",
        "                 va='bottom')\n",
        "  plt.show()\n",
        "tsne_plot(word2vec_model)"
      ],
      "metadata": {
        "colab": {
          "base_uri": "https://localhost:8080/",
          "height": 628
        },
        "id": "qou7DD2zitqM",
        "outputId": "d6efce92-fc2f-41b7-8dda-3a63d5f9ce69"
      },
      "execution_count": 15,
      "outputs": [
        {
          "output_type": "display_data",
          "data": {
            "text/plain": [
              "<Figure size 800x800 with 1 Axes>"
            ],
            "image/png": "[encoded data removed]"
          },
          "metadata": {}
        }
      ]
    },
    {
      "cell_type": "code",
      "source": [
        "from gensim.models import Word2Vec\n",
        "from nltk.tokenize import word_tokenize\n",
        "import nltk\n",
        "# nltk.download('punkt')  # Ensure that NLTK punkt is downloaded for tokenization\n",
        "\n",
        "# Sample sentences\n",
        "sentences = [\n",
        "    \"Word embedding is a technique in natural language processing.\",\n",
        "    \"It represents words as vectors in a continuous vector space.\",\n",
        "    \"Word2Vec is a popular algorithm for learning word embeddings.\",\n",
        "]\n",
        "\n",
        "# Tokenize the sentences\n",
        "tokenized_sentences = [word_tokenize(sentence.lower()) for sentence in sentences]\n",
        "\n",
        "# Word2Vec model training\n",
        "model = Word2Vec(sentences=tokenized_sentences, vector_size=100, window=5, min_count=1, workers=4)\n",
        "\n",
        "# Save the trained model (optional)\n",
        "model.save(\"word2vec_model\")\n",
        "\n",
        "# Example: Get the vector representation of a word\n",
        "word_vector = model.wv['word']\n",
        "# print(\"Vector representation of 'word':\", word_vector)\n",
        "\n",
        "# Example: Find similar words\n",
        "similar_words = model.wv.most_similar('embedding', topn=3)\n",
        "print(\"Words similar to 'embedding':\", similar_words)\n"
      ],
      "metadata": {
        "colab": {
          "base_uri": "https://localhost:8080/"
        },
        "id": "b38fJKIomeQo",
        "outputId": "8ebbe042-e19f-464a-8d4d-2d5921a07a9c"
      },
      "execution_count": 19,
      "outputs": [
        {
          "output_type": "stream",
          "name": "stdout",
          "text": [
            "Words similar to 'embedding': [('word', 0.19914914667606354), ('word2vec', 0.0968651995062828), ('is', 0.07529349625110626)]\n"
          ]
        },
        {
          "output_type": "stream",
          "name": "stderr",
          "text": [
            "[nltk_data] Downloading package punkt to /root/nltk_data...\n",
            "[nltk_data]   Package punkt is already up-to-date!\n"
          ]
        }
      ]
    },
    {
      "cell_type": "code",
      "source": [],
      "metadata": {
        "id": "nQM2tIlWozHy"
      },
      "execution_count": 19,
      "outputs": []
    },
    {
      "cell_type": "markdown",
      "source": [
        "# GloVe Model"
      ],
      "metadata": {
        "id": "Rp4T3HZTDK87"
      }
    },
    {
      "cell_type": "code",
      "source": [
        "glove_model = api.load('glove-wiki-gigaword-300')"
      ],
      "metadata": {
        "colab": {
          "base_uri": "https://localhost:8080/"
        },
        "id": "8UDK5StFDJjY",
        "outputId": "bb66dacd-ce9d-4bc0-ac5f-208dabd91839"
      },
      "execution_count": 21,
      "outputs": [
        {
          "output_type": "stream",
          "name": "stdout",
          "text": [
            "[==================================================] 100.0% 376.1/376.1MB downloaded\n"
          ]
        }
      ]
    },
    {
      "cell_type": "code",
      "source": [
        "glove_model['amazing']"
      ],
      "metadata": {
        "colab": {
          "base_uri": "https://localhost:8080/"
        },
        "id": "wefegRTEDJmv",
        "outputId": "c5009a41-8ec4-4d84-b599-35f89ed3c5b1"
      },
      "execution_count": 22,
      "outputs": [
        {
          "output_type": "execute_result",
          "data": {
            "text/plain": [
              "array([-0.26281  , -0.2569   ,  0.0031634,  0.11116  , -0.26983  ,\n",
              "        0.13558  , -0.28543  , -0.060975 , -0.25674  , -0.78597  ,\n",
              "        0.35811  , -0.1795   ,  0.30085  ,  0.81278  ,  0.11718  ,\n",
              "       -0.21434  , -0.063344 , -0.30954  ,  0.083549 ,  0.39303  ,\n",
              "       -0.012313 ,  1.1091   ,  0.22048  ,  0.19107  , -0.074628 ,\n",
              "        0.21337  ,  0.61978  , -0.19951  ,  0.079531 ,  0.31018  ,\n",
              "       -0.78848  , -0.096041 , -0.52462  , -0.55647  , -0.57361  ,\n",
              "        0.96709  ,  0.13452  ,  0.074389 ,  0.46333  ,  0.022875 ,\n",
              "        0.248    , -0.43702  , -0.25498  , -0.13667  ,  0.10111  ,\n",
              "        0.039904 ,  0.39554  , -0.3251   ,  0.18856  ,  0.12483  ,\n",
              "       -0.03102  , -0.14792  ,  0.088878 , -0.46753  , -0.29664  ,\n",
              "       -0.29665  , -0.39773  , -0.49484  ,  0.38035  , -0.4317   ,\n",
              "        0.13379  , -0.33609  , -0.05571  ,  0.23502  , -0.40195  ,\n",
              "        0.038404 ,  0.6067   ,  0.0089394,  0.26301  ,  0.2463   ,\n",
              "       -0.47756  , -0.01401  ,  0.061908 , -0.19561  ,  0.56158  ,\n",
              "       -0.12238  ,  0.34405  ,  0.11694  , -0.065375 , -0.27765  ,\n",
              "       -0.18043  , -0.31761  ,  0.083788 , -0.24731  ,  0.0077258,\n",
              "        0.38364  , -0.28676  ,  0.55566  ,  0.42303  ,  0.13292  ,\n",
              "       -0.13114  ,  0.2381   ,  0.045251 , -0.50831  , -0.36572  ,\n",
              "       -0.026823 ,  0.091473 , -0.18182  ,  0.065226 , -0.31409  ,\n",
              "       -0.028818 , -0.17455  ,  0.17177  ,  0.37104  , -0.42451  ,\n",
              "       -0.086358 , -0.21457  , -0.065784 ,  0.21377  , -0.26412  ,\n",
              "       -0.04797  ,  0.47155  , -0.26879  , -0.41762  ,  0.2521   ,\n",
              "        0.16006  ,  0.21925  ,  0.59703  ,  0.10359  , -0.62245  ,\n",
              "       -0.11781  ,  0.24259  ,  0.40025  ,  0.24285  , -0.10459  ,\n",
              "        0.068722 ,  0.34748  ,  0.28216  , -0.023498 , -0.12991  ,\n",
              "        0.54949  , -0.51885  , -0.30964  ,  0.46825  , -0.92839  ,\n",
              "       -0.25921  , -0.26737  ,  0.18962  , -0.26382  ,  0.18536  ,\n",
              "       -0.35681  , -0.38724  ,  0.40375  , -0.26337  , -0.27224  ,\n",
              "       -0.16726  , -0.19248  ,  0.36945  ,  0.096749 ,  0.41334  ,\n",
              "       -0.17929  , -0.15595  ,  0.056884 , -0.077356 ,  0.13208  ,\n",
              "       -0.41018  , -0.076623 , -0.089346 ,  0.18887  ,  0.050017 ,\n",
              "        0.012659 ,  0.098869 , -0.10331  ,  0.067396 , -0.34586  ,\n",
              "       -0.4454   , -0.44734  ,  0.78714  ,  0.37457  , -0.022048 ,\n",
              "       -0.21652  ,  0.32358  , -0.65896  ,  0.18567  , -0.2583   ,\n",
              "       -0.041408 , -0.26158  ,  0.10567  , -0.43396  , -0.33704  ,\n",
              "        0.39524  , -0.43739  ,  0.24876  ,  0.28191  ,  0.33877  ,\n",
              "       -0.22521  ,  0.62366  , -0.35213  ,  0.23929  , -0.69214  ,\n",
              "       -0.11903  , -0.095724 , -0.24916  ,  0.27697  , -0.19276  ,\n",
              "        0.12354  , -1.3274   , -0.44198  ,  0.28635  ,  0.15166  ,\n",
              "        0.99377  , -0.25486  ,  0.30777  ,  0.21838  ,  0.1037   ,\n",
              "       -0.49687  , -0.038625 ,  0.49844  , -0.12705  , -0.43328  ,\n",
              "       -0.39842  ,  0.15602  ,  0.051904 ,  0.62403  ,  0.31979  ,\n",
              "       -0.38338  ,  0.79524  , -0.76037  , -0.033696 , -0.41014  ,\n",
              "       -0.51971  ,  0.41951  ,  0.39924  ,  0.38127  , -0.45615  ,\n",
              "        0.2013   , -0.23321  , -0.43482  , -0.24239  ,  0.24009  ,\n",
              "        0.53608  , -0.36119  , -0.22389  , -0.62264  ,  0.4282   ,\n",
              "        0.020435 ,  0.21872  , -0.15695  , -0.80592  ,  0.17072  ,\n",
              "        0.81001  , -0.32705  , -0.16147  ,  0.76422  ,  0.21048  ,\n",
              "        0.7276   , -0.066761 , -0.23357  ,  0.15965  ,  0.27115  ,\n",
              "       -0.23052  , -0.49407  , -0.65963  ,  0.44329  , -0.12444  ,\n",
              "       -0.50984  ,  0.10713  , -0.024515 , -0.053612 , -0.021022 ,\n",
              "       -0.056872 , -0.20035  , -0.29697  ,  0.41888  , -0.37052  ,\n",
              "        0.090185 , -0.040706 ,  0.13307  ,  0.011769 ,  0.4961   ,\n",
              "        0.23933  , -0.33261  , -0.3144   , -0.2367   ,  0.096359 ,\n",
              "        0.49932  ,  0.25929  ,  0.15978  , -0.6255   , -0.59758  ,\n",
              "       -0.11773  ,  0.4668   , -0.061698 ,  0.31306  , -0.71502  ,\n",
              "        0.2194   , -0.16943  ,  0.57087  , -0.44155  , -0.13799  ,\n",
              "       -0.25322  ,  0.16647  , -0.22885  ,  0.46608  , -0.076174 ,\n",
              "       -0.63815  ,  0.19479  ,  0.16767  ,  0.19906  ,  0.44566  ],\n",
              "      dtype=float32)"
            ]
          },
          "metadata": {},
          "execution_count": 22
        }
      ]
    },
    {
      "cell_type": "code",
      "source": [
        "glove_model.most_similar('isro')"
      ],
      "metadata": {
        "colab": {
          "base_uri": "https://localhost:8080/"
        },
        "id": "2Y58EGIQEf7W",
        "outputId": "ed652bd5-18eb-4483-ae0e-0132238ee078"
      },
      "execution_count": 33,
      "outputs": [
        {
          "output_type": "execute_result",
          "data": {
            "text/plain": [
              "[('drdo', 0.5750523209571838),\n",
              " ('madhavan', 0.5613799095153809),\n",
              " ('kasturirangan', 0.5185132026672363),\n",
              " ('suparco', 0.4721439778804779),\n",
              " ('pslv', 0.43939876556396484),\n",
              " ('cnes', 0.43275976181030273),\n",
              " ('radhakrishnan', 0.4205898940563202),\n",
              " ('gslv', 0.41348451375961304),\n",
              " ('csiro', 0.4113711416721344),\n",
              " ('tanegashima', 0.39755627512931824)]"
            ]
          },
          "metadata": {},
          "execution_count": 33
        }
      ]
    },
    {
      "cell_type": "code",
      "source": [
        "glove_model.most_similar(positive=['boy','dracula'], negative=['girl'], topn=1)"
      ],
      "metadata": {
        "colab": {
          "base_uri": "https://localhost:8080/"
        },
        "id": "caGLKEGbE0cB",
        "outputId": "55e289a1-0107-4d07-d993-0d60b9c852a4"
      },
      "execution_count": 43,
      "outputs": [
        {
          "output_type": "execute_result",
          "data": {
            "text/plain": [
              "[('frankenstein', 0.5326064229011536)]"
            ]
          },
          "metadata": {},
          "execution_count": 43
        }
      ]
    },
    {
      "cell_type": "code",
      "source": [
        "vocab = [\"lion\", \"banana\", \"yellow\", \"grape\", \"kiwi\", \"cherry\", \"orange\", \"brown\" ,\"monkey\", \"peach\",\"white\"]\n",
        "\n",
        "def tsne_plot(model):\n",
        "  labels = []\n",
        "  wordvecs = []\n",
        "\n",
        "  for word in vocab:\n",
        "    wordvecs.append(model[word])\n",
        "    labels.append(word)\n",
        "\n",
        "  wordvecs = np.array(wordvecs)\n",
        "  # print(wordvecs)\n",
        "  tsne_model = TSNE(perplexity=3, n_components=2, init='pca', random_state=42)\n",
        "  coordinates = tsne_model.fit_transform(wordvecs)\n",
        "\n",
        "  x = []\n",
        "  y = []\n",
        "\n",
        "  for i in coordinates:\n",
        "    x.append(i[0])\n",
        "    y.append(i[1])\n",
        "\n",
        "  plt.figure(figsize=(8,8))\n",
        "  for n in range(len(x)):\n",
        "    plt.scatter(x[n],y[n])\n",
        "    plt.annotate(labels[n],\n",
        "                 xy = (x[n], y[n]),\n",
        "                 xytext=(2,2),\n",
        "                 textcoords='offset points',\n",
        "                 ha='right',\n",
        "                 va='bottom')\n",
        "  plt.show()\n",
        "tsne_plot(glove_model)"
      ],
      "metadata": {
        "colab": {
          "base_uri": "https://localhost:8080/",
          "height": 696
        },
        "id": "r89UcuTyGHM9",
        "outputId": "d1ad4910-4ac6-4223-ea1f-01cc1d3ea491"
      },
      "execution_count": 46,
      "outputs": [
        {
          "output_type": "display_data",
          "data": {
            "text/plain": [
              "<Figure size 800x800 with 1 Axes>"
            ],
            "image/png": "[encoded data removed]"
          },
          "metadata": {}
        }
      ]
    },
    {
      "cell_type": "code",
      "source": [],
      "metadata": {
        "id": "6e2ziQx2I6MC"
      },
      "execution_count": null,
      "outputs": []
    }
  ]
}